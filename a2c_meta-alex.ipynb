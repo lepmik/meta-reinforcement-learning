{
 "cells": [
  {
   "cell_type": "code",
   "execution_count": null,
   "metadata": {},
   "outputs": [],
   "source": [
    "import logging\n",
    "import numpy as np\n",
    "import tensorflow as tf\n",
    "import matplotlib.pyplot as plt\n",
    "import tensorflow.keras.layers as kl\n",
    "import tensorflow.keras.losses as kls\n",
    "import tensorflow.keras.optimizers as ko\n",
    "from pathlib import Path\n",
    "import ruamel.yaml as yaml\n",
    "from tqdm.notebook import tqdm\n",
    "import scipy.stats as stats\n",
    "%matplotlib inline\n",
    "\n",
    "print(\"TensorFlow Ver: \", tf.__version__)"
   ]
  },
  {
   "cell_type": "code",
   "execution_count": null,
   "metadata": {},
   "outputs": [],
   "source": [
    "seed = 1234\n",
    "tf.random.set_seed(seed)\n",
    "np.random.seed(seed)"
   ]
  },
  {
   "cell_type": "code",
   "execution_count": 3,
   "metadata": {},
   "outputs": [],
   "source": [
    "import os\n",
    "os.environ[\"CUDA_DEVICE_ORDER\"]=\"PCI_BUS_ID\"\n",
    "os.environ[\"CUDA_VISIBLE_DEVICES\"]=\"2\""
   ]
  },
  {
   "cell_type": "code",
   "execution_count": 4,
   "metadata": {},
   "outputs": [
    {
     "name": "stdout",
     "output_type": "stream",
     "text": [
      "Eager Execution: True\n",
      "1 + 2 + 3 + 4 + 5 = tf.Tensor(15, shape=(), dtype=int32)\n"
     ]
    }
   ],
   "source": [
    "# Eager by default!\n",
    "print(\"Eager Execution:\", tf.executing_eagerly())\n",
    "print(\"1 + 2 + 3 + 4 + 5 =\", tf.reduce_sum([1, 2, 3, 4, 5]))"
   ]
  },
  {
   "cell_type": "code",
   "execution_count": 119,
   "metadata": {},
   "outputs": [],
   "source": [
    "import numpy as np\n",
    "import matplotlib.pyplot as plt\n",
    "import scipy.stats as stats\n",
    "\n",
    "class dist_env():\n",
    "\n",
    "    def __init__(self, n_timesteps=1000, keep_record=True):\n",
    "        self.keep_record = keep_record\n",
    "        self.n_timesteps = n_timesteps\n",
    "        self.n_states = 4\n",
    "        self.stay_prob = 1. - 1./20.\n",
    "        self.M_weighting_off_diagonal = 0.1\n",
    "        self.wait_reward = -0.1\n",
    "        self.wrong_reward = -1.\n",
    "        self.right_reward = +1.\n",
    "        self.observation_sigma = 1.\n",
    "        self.reset()\n",
    "\n",
    "\n",
    "    def reset(self, ):\n",
    "        self.reset_M()\n",
    "        self.reset_M_random()\n",
    "        self.done = False\n",
    "        self.t = 0\n",
    "        reward = self.wait_reward\n",
    "        self.state = np.random.randint(0, self.n_states)\n",
    "        observation = self.compute_observation(self.state)\n",
    "        \n",
    "        self._s_hist = np.array([self.state])\n",
    "        self._r_hist = np.array([])\n",
    "        self._o_hist = np.array([observation])",
    "        \n",
    "        return observation, reward, self.done, self.t        \n",
    "\n",
    "\n",
    "    def reset_M(self, ):\n",
    "        self.trans_prob = (1.-self.stay_prob) / (self.n_states-1)\n",
    "        self.M = np.eye(self.n_states) * self.stay_prob\n",
    "        self.M[np.logical_not(np.eye(self.M.shape[0], dtype=bool))] = self.trans_prob\n",
    "\n",
    "\n",
    "    def reset_M_random(self, ):\n",
    "        M = np.identity(self.n_states)\n",
    "        M += self.M_weighting_off_diagonal*np.random.lognormal(size=M.shape)\n",
    "        M /=np.sum(M, axis=1, keepdims=True)\n",
    "        self.M = M\n",
    "\n",
    "\n",
    "    def step(self, action):\n",
    "        assert not self.done\n",
    "        state = self.state\n",
    "        reward = self.comp_reward(action, state)\n",
    "        new_state = self.comp_transition(action, state)\n",
    "        observation = self.compute_observation(new_state)\n",
    "        \n",
    "        self.t += 1\n",
    "        if self.t >= self.n_timesteps:\n",
    "            self.done = True\n",
    "        self.state = new_state\n",
    "        \n",
    "        if self.keep_record:\n",
    "            self._r_hist = np.append(self._r_hist, reward)\n",
    "            self._s_hist = np.append(self._s_hist, new_state)\n",
    "            self._o_hist = np.append(self._o_hist, observation)\n",
    "            \n",
    "        return observation, reward, self.done, self.t\n",
    "\n",
    "\n",
    "    def comp_reward(self, action, state):\n",
    "        if action == self.n_states:\n",
    "            reward = self.wait_reward\n",
    "        elif action == state:\n",
    "            reward = self.right_reward\n",
    "        else:\n",
    "            reward = self.wrong_reward\n",
    "                    \n",
    "        return reward\n",
    "\n",
    "\n",
    "    def comp_transition(self, action, state):\n",
    "        new_state = np.random.choice(self.n_states, p=self.M[state,:])\n",
    "        if action != self.n_states:\n",
    "            while new_state == state:\n",
    "                new_state = np.random.choice(self.n_states, p=self.M[state,:])\n",
    "        return new_state\n",
    "\n",
    "\n",
    "    def compute_observation_circle(self, state):\n",
    "        state_pos = (2.*np.pi) * (state / self.n_states) - np.pi\n",
    "        observation = stats.vonmises.rvs(self.kappa, loc=state_pos)\n",
    "        return observation\n",
    "\n",
    "\n",
    "    def compute_observation(self, state):\n",
    "        observation = stats.norm.rvs(loc=state, scale=self.observation_sigma)\n",
    "        return observation"
   ]
  },
  {
   "cell_type": "code",
   "execution_count": 120,
   "metadata": {},
   "outputs": [
    {
     "data": {
      "text/plain": [
       "[<matplotlib.lines.Line2D at 0x7fd77c7b39e8>]"
      ]
     },
     "execution_count": 120,
     "metadata": {},
     "output_type": "execute_result"
    },
    {
     "data": {
      "image/png": "[encoded data removed]",
      "text/plain": [
       "<Figure size 576x396 with 1 Axes>"
      ]
     },
     "metadata": {},
     "output_type": "display_data"
    }
   ],
   "source": [
    "env = dist_env()\n",
    "\n",
    "\n",
    "for i in range(1000):\n",
    "    env.step(0)\n",
    "\n",
    "\n",
    "plt.figure()\n",
    "plt.plot(env._s_hist)\n",
    "plt.plot(env._r_hist)"
   ]
  },
  {
   "cell_type": "code",
   "execution_count": 121,
   "metadata": {},
   "outputs": [
    {
     "data": {
      "text/plain": [
       "(array([False, False, False, False, False, False, False, False, False,\n",
       "        False, False, False, False, False, False]),\n",
       " array([1, 3, 1, 3, 0, 2, 1, 2, 1, 0, 1, 2, 1, 0, 1]))"
      ]
     },
     "execution_count": 121,
     "metadata": {},
     "output_type": "execute_result"
    }
   ],
   "source": [
    "(np.diff(env._s_hist) == 0)[:15], env._s_hist[:15]"
   ]
  },
  {
   "cell_type": "code",
   "execution_count": 122,
   "metadata": {},
   "outputs": [
    {
     "data": {
      "text/plain": [
       "(array([], dtype=int64), array([], dtype=int64))"
      ]
     },
     "execution_count": 122,
     "metadata": {},
     "output_type": "execute_result"
    }
   ],
   "source": [
    "np.unique(env._s_hist[:-1][(np.diff(env._s_hist) == 0)], return_counts=True)"
   ]
  },
  {
   "cell_type": "code",
   "execution_count": 123,
   "metadata": {},
   "outputs": [
    {
     "data": {
      "text/plain": [
       "(0, -0.1, False, 0)"
      ]
     },
     "execution_count": 123,
     "metadata": {},
     "output_type": "execute_result"
    }
   ],
   "source": [
    "env.reset()"
   ]
  },
  {
   "cell_type": "code",
   "execution_count": 124,
   "metadata": {},
   "outputs": [
    {
     "data": {
      "text/plain": [
       "(0.614174463309825, -1.0, False, 1)"
      ]
     },
     "execution_count": 124,
     "metadata": {},
     "output_type": "execute_result"
    }
   ],
   "source": [
    "env.step(0)"
   ]
  },
  {
   "cell_type": "code",
   "execution_count": 125,
   "metadata": {},
   "outputs": [],
   "source": [
    "class Model(tf.keras.Model):\n",
    "    def __init__(self, num_actions, batch_size=1, n_timesteps=None, n_features=8, name='meta_policy'):\n",
    "        super().__init__(name)\n",
    "#         Having a stateful LSTM means that you will need to reset the hidden state \n",
    "#         in between batches yourself if you do want independent batches. \n",
    "#         The default initial hidden state in Tensorflow is all zeros.\n",
    "        self.lstm = kl.LSTM(\n",
    "            48, name='hidden', \n",
    "            stateful=True, \n",
    "            time_major=True, # ['time', 'batch', 'features']\n",
    "            return_sequences=True, \n",
    "            recurrent_initializer='zeros'\n",
    "        )\n",
    "        self.lstm.build((n_timesteps, batch_size, n_features)) # set batch size, must be done with stateful lstm\n",
    "#         self.noise = kl.GaussianNoise(0.1)\n",
    "        self.policy = kl.Dense(\n",
    "            num_actions, name='policy'\n",
    "        )\n",
    "        self.value = kl.Dense(\n",
    "            1, name='value'\n",
    "        )\n",
    "\n",
    "    def call(self, inputs, **kwargs):\n",
    "        output = self.lstm(inputs)\n",
    "        value = self.value(output)\n",
    "        policy = self.policy(output)\n",
    "#         noise = self.noise(output, training=True)\n",
    "#         policy = self.policy(noise)\n",
    "        return tf.squeeze(policy, 1), tf.squeeze(value, (1, 2))\n",
    "\n",
    "    def predict_action_value(self, obs):\n",
    "        # Executes `call()` under the hood.\n",
    "        policy, value = self.predict_on_batch(obs)\n",
    "        actions = tf.squeeze(tf.random.categorical(policy, 1), 1)\n",
    "        return actions, value "
   ]
  },
  {
   "cell_type": "code",
   "execution_count": 126,
   "metadata": {},
   "outputs": [
    {
     "name": "stdout",
     "output_type": "stream",
     "text": [
      "tf.Tensor([3 3], shape=(2,), dtype=int64) tf.Tensor([-0.03366502 -0.05733382], shape=(2,), dtype=float32)\n"
     ]
    }
   ],
   "source": [
    "# Verify everything works by sampling two actions.\n",
    "state_observation, reward, done, timestep = env.reset()\n",
    "model = Model(env.n_states + 1, n_features=8)\n",
    "action = 0\n",
    "action = tf.one_hot(action, env.n_states + 1)\n",
    "observation = np.concatenate([\n",
    "        [[state_observation], [state_observation]],\n",
    "        [[reward],[reward]], \n",
    "        [action, action],\n",
    "        [[timestep], [timestep]]], 1)\n",
    "observation = tf.expand_dims(observation, [1])\n",
    "# print(observation)\n",
    "action, value = model.predict_action_value(observation)\n",
    "print(action, value)"
   ]
  },
  {
   "cell_type": "code",
   "execution_count": 127,
   "metadata": {},
   "outputs": [
    {
     "name": "stdout",
     "output_type": "stream",
     "text": [
      "0 [0.01206078] -0.42064278189354076 -1.0\n",
      "1 [0.0359822] 2.0441342356947856 -1.0\n"
     ]
    }
   ],
   "source": [
    "# Verify everything works by sampling two actions with state reset.\n",
    "state_observation, reward, done, timestep = env.reset()\n",
    "model = Model(env.n_states + 1, n_features=8)\n",
    "\n",
    "action = 0\n",
    "for _ in range(2):\n",
    "    action = tf.one_hot(action, env.n_states + 1)\n",
    "    single_input = np.concatenate([\n",
    "        [[state_observation]],\n",
    "        [[reward]],\n",
    "        [action],\n",
    "        [[timestep]]], 1)\n",
    "    single_input = tf.cast(single_input, dtype=tf.float32)\n",
    "    single_input = tf.expand_dims(single_input, [1])\n",
    "\n",
    "    action, value = model.predict_action_value(single_input)\n",
    "    action = np.squeeze(action)\n",
    "    state_observation, reward, done, timestep = env.step(action)\n",
    "    print(action, value.numpy(), state_observation, reward)\n",
    "    "
   ]
  },
  {
   "cell_type": "code",
   "execution_count": 128,
   "metadata": {},
   "outputs": [],
   "source": [
    "class Agent:\n",
    "    def __init__(self, model, env, learning_rate=1e-3, gamma=0.8, value_coefficient=0.2, entropy_coefficient=.002, name='a2c_agent_alex', data_path=None):\n",
    "        # `gamma` is the discount factor; coefficients are used for the loss terms.\n",
    "        self.gamma = gamma\n",
    "        self.value_coefficient = value_coefficient\n",
    "        self.learning_rate = learning_rate\n",
    "        self.entropy_coefficient = entropy_coefficient\n",
    "        self.env =  env\n",
    "        self.name = name\n",
    "        self.model = model(env.n_states + 1, batch_size=1, name=self.name)\n",
    "        # Define separate losses for policy logits and value estimate.\n",
    "        self.data_path = data_path or Path().cwd() / self.name\n",
    "        self.parameters = {\n",
    "            'learning_rate': learning_rate,\n",
    "            'value_coefficient': value_coefficient,\n",
    "            'entropy_coefficient': entropy_coefficient,\n",
    "            'gamma': gamma \n",
    "        }\n",
    "        self._compile()\n",
    "    \n",
    "    def save_agent(self):\n",
    "        self.data_path.mkdir(parents=True, exist_ok=True)\n",
    "        logging.info(f\"Saving parameters, training_history and weights to {self.data_path}.\")\n",
    "        with open(str(self.data_path / self.name) + '.yaml', 'w') as f:\n",
    "            yaml.dump(self.parameters, f)\n",
    "        np.save(str(self.data_path / self.name) + '.npy', self.training_history)\n",
    "        self.model.save_weights(str(self.data_path / self.name))\n",
    "        \n",
    "    def load_agent(self):\n",
    "        logging.warning(\"Updating parameters, training_history, weights and recompiling model.\")\n",
    "        with open(str(self.data_path / self.name) + '.yaml', 'r') as f:\n",
    "            self.parameters = yaml.load(f, Loader=yaml.Loader)\n",
    "        self.training_history = np.load(str(self.data_path / self.name) + '.npy')\n",
    "        self.model.load_weights(str(self.data_path / self.name))\n",
    "        self.__dict__.update(self.parameters)\n",
    "        self._compile()\n",
    "        \n",
    "    def _compile(self):\n",
    "        self.model.compile(\n",
    "            optimizer=ko.Adam(lr=self.learning_rate), \n",
    "            loss=[self._policy_loss, self._value_loss])\n",
    "    \n",
    "    def _predict(self, action, state_observation, reward, timestep):\n",
    "        action = np.squeeze(action)\n",
    "        action = tf.one_hot(action, self.env.n_states + 1)\n",
    "        single_input = np.concatenate([\n",
    "            [[state_observation]],\n",
    "            [[reward]],\n",
    "            [action],\n",
    "            [[timestep]]], 1)\n",
    "        single_input = tf.cast(single_input, dtype=tf.float32)\n",
    "        single_input = tf.expand_dims(single_input, [1])\n",
    "        new_action, value = self.model.predict_action_value(single_input)\n",
    "        return new_action, value, single_input\n",
    "\n",
    "    def train(self, episodes=250):\n",
    "        # Training loop: collect samples, send to optimizer, repeat episodes times.\n",
    "        self.training_history = []\n",
    "        for episode in tqdm(range(episodes)):\n",
    "            actions, observations, rewards, values, inputs = self.run_episode()\n",
    "            self.training_history.append(np.sum(rewards))\n",
    "\n",
    "            logging.info(f\"Episode: {len(self.training_history) - 1:3d}, Reward: {int(self.training_history[-1]):3d}\")\n",
    "            \n",
    "            # `next_value` is the bootstrap value estimate of the future state (critic).\n",
    "            _, next_value, _ = self._predict(actions[-1], observations[-1], rewards[-1], inputs[-1,0,3] + 1)\n",
    "\n",
    "            self.model.reset_states()\n",
    "            \n",
    "            returns, advantages = self._returns_advantages(rewards, values, next_value)\n",
    "            # A trick to input actions and advantages through same API.\n",
    "            actions_advantages = np.concatenate([actions[:, None], advantages[:, None]], axis=1)\n",
    "            \n",
    "            losses = self.model.train_on_batch(inputs, [actions_advantages, returns])\n",
    "            \n",
    "            logging.debug(f\"[{episode + 1:d}/{episodes:d}] Losses: {losses}\")\n",
    "        return self.training_history\n",
    "\n",
    "    def run_episode(self):\n",
    "        state_observation, reward, done, timestep = self.env.reset()\n",
    "\n",
    "        action = 4 # I don't know\n",
    "        # Storage helpers for a single batch of data.\n",
    "        actions = np.empty(self.env.n_timesteps, dtype=np.int32)\n",
    "        rewards, values, observations = np.empty((3, self.env.n_timesteps))\n",
    "        inputs = np.empty((self.env.n_timesteps, 1, 8))\n",
    "        \n",
    "        self.model.reset_states()\n",
    "        step = 0\n",
    "        while not done:\n",
    "            # action and reward at t - 1 and timestep at t\n",
    "            action, value, inputs[step] = self._predict(action, state_observation, reward, timestep + 1)\n",
    "            state_observation, reward, done, timestep = self.env.step(action)\n",
    "            # rewards, values and actions at t\n",
    "            observations[step] = state_observation\n",
    "            rewards[step] = reward\n",
    "            actions[step] = action\n",
    "            values[step] = value\n",
    "            step += 1\n",
    "        return actions, observations, rewards, values, inputs\n",
    "    \n",
    "    def _returns_advantages(self, rewards, values, next_value):\n",
    "        # `next_value` is the bootstrap value estimate of the future state (critic).\n",
    "        returns = np.append(np.zeros_like(rewards), next_value, axis=-1)\n",
    "        # Returns are calculated as discounted sum of future rewards.\n",
    "        for t in reversed(range(rewards.shape[0])):\n",
    "            returns[t] = rewards[t] + self.gamma * returns[t + 1]\n",
    "        returns = returns[:-1]\n",
    "        # Advantages are equal to returns - baseline (value estimates in our case).\n",
    "        advantages = returns - values\n",
    "        return returns, advantages\n",
    "\n",
    "    def _value_loss(self, returns, value):\n",
    "        # Value loss is typically MSE between value estimates and returns.\n",
    "        loss = self.value_coefficient * kls.mean_squared_error(returns, value)\n",
    "#         tf.keras.backend.print_tensor(loss)\n",
    "        return loss\n",
    "\n",
    "    def _policy_loss(self, actions_and_advantages, logits):\n",
    "        # A trick to input actions and advantages through the same API.\n",
    "        actions, advantages = tf.split(actions_and_advantages, 2, axis=-1)\n",
    "        # Sparse categorical CE loss obj that supports sample_weight arg on `call()`.\n",
    "        # `from_logits` argument ensures transformation into normalized probabilities.\n",
    "        weighted_sparse_ce = kls.SparseCategoricalCrossentropy(from_logits=True)\n",
    "        # Policy loss is defined by policy gradients, weighted by advantages.\n",
    "        # Note: we only calculate the loss on the actions we've actually taken.\n",
    "        actions = tf.cast(actions, tf.int32)\n",
    "        policy_loss = weighted_sparse_ce(actions, logits, sample_weight=advantages)\n",
    "        # Entropy loss can be calculated as cross-entropy over itself.\n",
    "        probs = tf.nn.softmax(logits)\n",
    "        entropy_loss = tf.reduce_sum(kls.categorical_crossentropy(probs, probs))\n",
    "        # We want to minimize policy and maximize entropy losses.\n",
    "        # Here signs are flipped because the optimizer minimizes.\n",
    "#         tf.keras.backend.print_tensor(policy_loss)\n",
    "#         tf.keras.backend.print_tensor(entropy_loss)\n",
    "        loss = policy_loss - self.entropy_coefficient * entropy_loss\n",
    "        return loss"
   ]
  },
  {
   "cell_type": "code",
   "execution_count": 129,
   "metadata": {},
   "outputs": [
    {
     "name": "stdout",
     "output_type": "stream",
     "text": [
      "-30.800000000000026\n"
     ]
    }
   ],
   "source": [
    "# logging.getLogger().setLevel(logging.INFO)\n",
    "# logging.getLogger().setLevel(logging.DEBUG)\n",
    "logging.getLogger().setLevel(logging.WARNING)\n",
    "\n",
    "env = dist_env(n_timesteps=100)\n",
    "agent = Agent(Model, env)\n",
    "\n",
    "actions, observations, rewards, values, inputs = agent.run_episode()\n",
    "print(sum(rewards))"
   ]
  },
  {
   "cell_type": "code",
   "execution_count": 130,
   "metadata": {},
   "outputs": [
    {
     "data": {
      "text/plain": [
       "(array([50.,  0.,  0.,  0., 28.,  0.,  0.,  0.,  0., 22.]),\n",
       " array([-1. , -0.8, -0.6, -0.4, -0.2,  0. ,  0.2,  0.4,  0.6,  0.8,  1. ]),\n",
       " <a list of 10 Patch objects>)"
      ]
     },
     "execution_count": 130,
     "metadata": {},
     "output_type": "execute_result"
    },
    {
     "data": {
      "image/png": "[encoded data removed]",
      "text/plain": [
       "<Figure size 576x396 with 1 Axes>"
      ]
     },
     "metadata": {},
     "output_type": "display_data"
    }
   ],
   "source": [
    "plt.hist(rewards)"
   ]
  },
  {
   "cell_type": "markdown",
   "metadata": {},
   "source": [
    "# train"
   ]
  },
  {
   "cell_type": "code",
   "execution_count": 131,
   "metadata": {},
   "outputs": [
    {
     "data": {
      "application/vnd.jupyter.widget-view+json": {
       "model_id": "7c608fdf6781476489ad423fb9193ba6",
       "version_major": 2,
       "version_minor": 0
      },
      "text/plain": [
       "HBox(children=(FloatProgress(value=0.0, max=20000.0), HTML(value='')))"
      ]
     },
     "metadata": {},
     "output_type": "display_data"
    },
    {
     "name": "stdout",
     "output_type": "stream",
     "text": [
      "\n",
      "Finished training! Testing...\n",
      "Total Episode Reward: 34 out of 100\n"
     ]
    }
   ],
   "source": [
    "training_history = agent.train(20000)\n",
    "\n",
    "print(\"Finished training! Testing...\")\n",
    "print(\"Total Episode Reward: %d out of 100\" % agent.run_episode()[2].sum())"
   ]
  },
  {
   "cell_type": "markdown",
   "metadata": {},
   "source": [
    "# or load weights"
   ]
  },
  {
   "cell_type": "code",
   "execution_count": 132,
   "metadata": {},
   "outputs": [],
   "source": [
    "agent.save_agent()"
   ]
  },
  {
   "cell_type": "code",
   "execution_count": 15,
   "metadata": {},
   "outputs": [
    {
     "name": "stderr",
     "output_type": "stream",
     "text": [
      "WARNING:root:Updating parameters, training_history, weights and recompiling model.\n"
     ]
    }
   ],
   "source": [
    "agent.load_agent()"
   ]
  },
  {
   "cell_type": "code",
   "execution_count": 133,
   "metadata": {},
   "outputs": [
    {
     "data": {
      "text/plain": [
       "Text(0, 0.5, 'Total Reward')"
      ]
     },
     "execution_count": 133,
     "metadata": {},
     "output_type": "execute_result"
    },
    {
     "data": {
      "image/png": "[encoded data removed]",
      "text/plain": [
       "<Figure size 576x396 with 1 Axes>"
      ]
     },
     "metadata": {},
     "output_type": "display_data"
    }
   ],
   "source": [
    "plt.style.use('seaborn')\n",
    "plt.plot(np.arange(0, len(agent.training_history), 5), agent.training_history[::5])\n",
    "# plt.plot(np.arange(len(training_history)), training_history)\n",
    "plt.xlabel('Episode')\n",
    "plt.ylabel('Total Reward')"
   ]
  },
  {
   "cell_type": "markdown",
   "metadata": {},
   "source": [
    "# analyze model"
   ]
  },
  {
   "cell_type": "code",
   "execution_count": 134,
   "metadata": {},
   "outputs": [],
   "source": [
    "class Benchmark:\n",
    "    def __init__(self, agent, env, n_episodes=300):\n",
    "        assert env.keep_record\n",
    "        self.agent = agent\n",
    "        self.env = env\n",
    "        self.n_episodes = n_episodes\n",
    "    \n",
    "    def evaluate(self):\n",
    "        rewards = np.empty((self.n_episodes, env.n_timesteps))\n",
    "        actions = np.empty((self.n_episodes, env.n_timesteps))\n",
    "        observations = np.empty((self.n_episodes, env.n_timesteps))\n",
    "        values = np.empty((self.n_episodes, env.n_timesteps))\n",
    "        states = np.empty((self.n_episodes, env.n_timesteps))\n",
    "        for episode in tqdm(range(self.n_episodes)):\n",
    "            actions[episode], observations[episode], rewards[episode], values[episode], _ = agent.run_episode()\n",
    "            states[episode] = self.env._s_hist[:-1]\n",
    "        self.episodes = {\n",
    "            'rewards': rewards,\n",
    "            'observations': observations,\n",
    "            'actions': actions,\n",
    "            'values': values,\n",
    "            'states': states\n",
    "        }\n",
    "                \n",
    "    def plot_rewards(self):\n",
    "        import matplotlib.patches as mpatches\n",
    "        if not hasattr(self, 'episodes'):\n",
    "            self.evaluate()\n",
    "\n",
    "        im = plt.imshow(self.episodes['rewards'], cmap='binary', origin='lower', interpolation='nearest')\n",
    "        \n",
    "#         patches = [mpatches.Patch(color=im.cmap(im.norm(0)), label=\"Sub-optimal choice\")]\n",
    "#         plt.legend(handles=patches, )\n",
    "        \n",
    "        plt.gca().set_aspect('auto')\n",
    "        plt.grid(False)\n",
    "    \n",
    "    def plot_actions(self):\n",
    "        import matplotlib.patches as mpatches\n",
    "        if not hasattr(self, 'episodes'):\n",
    "            self.evaluate()\n",
    "        actions_optimal = np.empty_like(self.episodes['actions'])\n",
    "        _itr = zip(self.episodes['actions'], self.episodes['states'])\n",
    "        \n",
    "        for i, (actions_episode, states_episode) in enumerate(_itr):\n",
    "            for j, (action, state) in enumerate(zip(actions_episode, states_episode)):\n",
    "                actions_optimal[i, j] = action == state\n",
    "\n",
    "        im = plt.imshow(actions_optimal, cmap='Greens_r', origin='lower', interpolation='nearest')\n",
    "        \n",
    "        patches = [mpatches.Patch(color=im.cmap(im.norm(0)), label=\"Sub-optimal choice\")]\n",
    "        plt.legend(handles=patches, )\n",
    "        \n",
    "        plt.gca().set_aspect('auto')\n",
    "        plt.grid(False)"
   ]
  },
  {
   "cell_type": "code",
   "execution_count": 135,
   "metadata": {},
   "outputs": [
    {
     "data": {
      "application/vnd.jupyter.widget-view+json": {
       "model_id": "8d65c3c07a9948628d75634ad446f601",
       "version_major": 2,
       "version_minor": 0
      },
      "text/plain": [
       "HBox(children=(FloatProgress(value=0.0, max=300.0), HTML(value='')))"
      ]
     },
     "metadata": {},
     "output_type": "display_data"
    },
    {
     "name": "stdout",
     "output_type": "stream",
     "text": [
      "\n"
     ]
    }
   ],
   "source": [
    "b = Benchmark(agent, env)\n",
    "b.evaluate()"
   ]
  },
  {
   "cell_type": "code",
   "execution_count": 136,
   "metadata": {},
   "outputs": [
    {
     "data": {
      "image/png": "[encoded data removed]",
      "text/plain": [
       "<Figure size 576x396 with 1 Axes>"
      ]
     },
     "metadata": {},
     "output_type": "display_data"
    }
   ],
   "source": [
    "b.plot_actions()\n",
    "# plt.xlim(0,1)"
   ]
  },
  {
   "cell_type": "code",
   "execution_count": 137,
   "metadata": {},
   "outputs": [
    {
     "data": {
      "image/png": "[encoded data removed]",
      "text/plain": [
       "<Figure size 576x396 with 1 Axes>"
      ]
     },
     "metadata": {},
     "output_type": "display_data"
    }
   ],
   "source": [
    "b.plot_rewards()"
   ]
  },
  {
   "cell_type": "code",
   "execution_count": 138,
   "metadata": {},
   "outputs": [
    {
     "data": {
      "text/plain": [
       "array([-1. , -0.1,  1. ])"
      ]
     },
     "execution_count": 138,
     "metadata": {},
     "output_type": "execute_result"
    }
   ],
   "source": [
    "np.unique(b.episodes['rewards'])"
   ]
  },
  {
   "cell_type": "code",
   "execution_count": 60,
   "metadata": {},
   "outputs": [],
   "source": [
    "class ManualBenchmark:\n",
    "    def __init__(self, agent):\n",
    "        self.agent = agent\n",
    "    \n",
    "    def play(self):\n",
    "        agent.model.reset_states()\n",
    "        state_observation, reward, done, timestep = 0,0,0,0\n",
    "        action = 4\n",
    "        while reward > -10:\n",
    "            # action and reward at t - 1 and timestep at t\n",
    "            action, value, inputs = agent._predict(action, state_observation, reward, timestep + 1)\n",
    "            state_observation, reward = input(f\"LSTM chose {action}, give me observation and reward\").split()\n",
    "            state_observation = float(state_observation)\n",
    "            reward = float(reward)\n",
    "            # rewards, values and actions at t\n",
    "#             rewards.append(reward)\n",
    "#             actions.append(action)\n",
    "#             values.append(value)\n",
    "            timestep += 1"
   ]
  },
  {
   "cell_type": "code",
   "execution_count": 61,
   "metadata": {},
   "outputs": [],
   "source": [
    "mb = ManualBenchmark(agent)"
   ]
  },
  {
   "cell_type": "code",
   "execution_count": 62,
   "metadata": {},
   "outputs": [
    {
     "name": "stdin",
     "output_type": "stream",
     "text": [
      "LSTM chose [0], give me observation and reward 2.5 1\n",
      "LSTM chose [3], give me observation and reward .5 -1\n"
     ]
    },
    {
     "ename": "KeyboardInterrupt",
     "evalue": "Interrupted by user",
     "output_type": "error",
     "traceback": [
      "\u001b[0;31m---------------------------------------------------------------------------\u001b[0m",
      "\u001b[0;31mKeyboardInterrupt\u001b[0m                         Traceback (most recent call last)",
      "\u001b[0;32m<ipython-input-62-d4a277ee9966>\u001b[0m in \u001b[0;36m<module>\u001b[0;34m\u001b[0m\n\u001b[0;32m----> 1\u001b[0;31m \u001b[0mmb\u001b[0m\u001b[0;34m.\u001b[0m\u001b[0mplay\u001b[0m\u001b[0;34m(\u001b[0m\u001b[0;34m)\u001b[0m\u001b[0;34m\u001b[0m\u001b[0;34m\u001b[0m\u001b[0m\n\u001b[0m",
      "\u001b[0;32m<ipython-input-60-76634d6051cd>\u001b[0m in \u001b[0;36mplay\u001b[0;34m(self)\u001b[0m\n\u001b[1;32m     10\u001b[0m             \u001b[0;31m# action and reward at t - 1 and timestep at t\u001b[0m\u001b[0;34m\u001b[0m\u001b[0;34m\u001b[0m\u001b[0;34m\u001b[0m\u001b[0m\n\u001b[1;32m     11\u001b[0m             \u001b[0maction\u001b[0m\u001b[0;34m,\u001b[0m \u001b[0mvalue\u001b[0m\u001b[0;34m,\u001b[0m \u001b[0minputs\u001b[0m \u001b[0;34m=\u001b[0m \u001b[0magent\u001b[0m\u001b[0;34m.\u001b[0m\u001b[0m_predict\u001b[0m\u001b[0;34m(\u001b[0m\u001b[0maction\u001b[0m\u001b[0;34m,\u001b[0m \u001b[0mstate_observation\u001b[0m\u001b[0;34m,\u001b[0m \u001b[0mreward\u001b[0m\u001b[0;34m,\u001b[0m \u001b[0mtimestep\u001b[0m \u001b[0;34m+\u001b[0m \u001b[0;36m1\u001b[0m\u001b[0;34m)\u001b[0m\u001b[0;34m\u001b[0m\u001b[0;34m\u001b[0m\u001b[0m\n\u001b[0;32m---> 12\u001b[0;31m             \u001b[0mstate_observation\u001b[0m\u001b[0;34m,\u001b[0m \u001b[0mreward\u001b[0m \u001b[0;34m=\u001b[0m \u001b[0minput\u001b[0m\u001b[0;34m(\u001b[0m\u001b[0;34mf\"LSTM chose {action}, give me observation and reward\"\u001b[0m\u001b[0;34m)\u001b[0m\u001b[0;34m.\u001b[0m\u001b[0msplit\u001b[0m\u001b[0;34m(\u001b[0m\u001b[0;34m)\u001b[0m\u001b[0;34m\u001b[0m\u001b[0;34m\u001b[0m\u001b[0m\n\u001b[0m\u001b[1;32m     13\u001b[0m             \u001b[0mstate_observation\u001b[0m \u001b[0;34m=\u001b[0m \u001b[0mfloat\u001b[0m\u001b[0;34m(\u001b[0m\u001b[0mstate_observation\u001b[0m\u001b[0;34m)\u001b[0m\u001b[0;34m\u001b[0m\u001b[0;34m\u001b[0m\u001b[0m\n\u001b[1;32m     14\u001b[0m             \u001b[0mreward\u001b[0m \u001b[0;34m=\u001b[0m \u001b[0mfloat\u001b[0m\u001b[0;34m(\u001b[0m\u001b[0mreward\u001b[0m\u001b[0;34m)\u001b[0m\u001b[0;34m\u001b[0m\u001b[0;34m\u001b[0m\u001b[0m\n",
      "\u001b[0;32m/usr/local/lib/python3.6/dist-packages/ipykernel/kernelbase.py\u001b[0m in \u001b[0;36mraw_input\u001b[0;34m(self, prompt)\u001b[0m\n\u001b[1;32m    861\u001b[0m             \u001b[0mself\u001b[0m\u001b[0;34m.\u001b[0m\u001b[0m_parent_ident\u001b[0m\u001b[0;34m,\u001b[0m\u001b[0;34m\u001b[0m\u001b[0;34m\u001b[0m\u001b[0m\n\u001b[1;32m    862\u001b[0m             \u001b[0mself\u001b[0m\u001b[0;34m.\u001b[0m\u001b[0m_parent_header\u001b[0m\u001b[0;34m,\u001b[0m\u001b[0;34m\u001b[0m\u001b[0;34m\u001b[0m\u001b[0m\n\u001b[0;32m--> 863\u001b[0;31m             \u001b[0mpassword\u001b[0m\u001b[0;34m=\u001b[0m\u001b[0;32mFalse\u001b[0m\u001b[0;34m,\u001b[0m\u001b[0;34m\u001b[0m\u001b[0;34m\u001b[0m\u001b[0m\n\u001b[0m\u001b[1;32m    864\u001b[0m         )\n\u001b[1;32m    865\u001b[0m \u001b[0;34m\u001b[0m\u001b[0m\n",
      "\u001b[0;32m/usr/local/lib/python3.6/dist-packages/ipykernel/kernelbase.py\u001b[0m in \u001b[0;36m_input_request\u001b[0;34m(self, prompt, ident, parent, password)\u001b[0m\n\u001b[1;32m    891\u001b[0m             \u001b[0;32mexcept\u001b[0m \u001b[0mKeyboardInterrupt\u001b[0m\u001b[0;34m:\u001b[0m\u001b[0;34m\u001b[0m\u001b[0;34m\u001b[0m\u001b[0m\n\u001b[1;32m    892\u001b[0m                 \u001b[0;31m# re-raise KeyboardInterrupt, to truncate traceback\u001b[0m\u001b[0;34m\u001b[0m\u001b[0;34m\u001b[0m\u001b[0;34m\u001b[0m\u001b[0m\n\u001b[0;32m--> 893\u001b[0;31m                 \u001b[0;32mraise\u001b[0m \u001b[0mKeyboardInterrupt\u001b[0m\u001b[0;34m(\u001b[0m\u001b[0;34m\"Interrupted by user\"\u001b[0m\u001b[0;34m)\u001b[0m \u001b[0;32mfrom\u001b[0m \u001b[0;32mNone\u001b[0m\u001b[0;34m\u001b[0m\u001b[0;34m\u001b[0m\u001b[0m\n\u001b[0m\u001b[1;32m    894\u001b[0m             \u001b[0;32melse\u001b[0m\u001b[0;34m:\u001b[0m\u001b[0;34m\u001b[0m\u001b[0;34m\u001b[0m\u001b[0m\n\u001b[1;32m    895\u001b[0m                 \u001b[0;32mbreak\u001b[0m\u001b[0;34m\u001b[0m\u001b[0;34m\u001b[0m\u001b[0m\n",
      "\u001b[0;31mKeyboardInterrupt\u001b[0m: Interrupted by user"
     ]
    }
   ],
   "source": [
    "mb.play()"
   ]
  },
  {
   "cell_type": "code",
   "execution_count": null,
   "metadata": {},
   "outputs": [],
   "source": []
  }
 ],
 "metadata": {
  "kernelspec": {
   "display_name": "Python 3",
   "language": "python",
   "name": "python3"
  },
  "language_info": {
   "codemirror_mode": {
    "name": "ipython",
    "version": 3
   },
   "file_extension": ".py",
   "mimetype": "text/x-python",
   "name": "python",
   "nbconvert_exporter": "python",
   "pygments_lexer": "ipython3",
   "version": "3.6.9"
  }
 },
 "nbformat": 4,
 "nbformat_minor": 4
}
